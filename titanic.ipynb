{
 "cells": [
  {
   "cell_type": "code",
   "execution_count": 88,
   "metadata": {},
   "outputs": [
    {
     "name": "stderr",
     "output_type": "stream",
     "text": [
      "C:\\Users\\DELL\\Anaconda3\\lib\\site-packages\\dask\\dataframe\\utils.py:15: FutureWarning: pandas.util.testing is deprecated. Use the functions in the public API at pandas.testing instead.\n",
      "  import pandas.util.testing as tm\n"
     ]
    }
   ],
   "source": [
    "import pandas as pd\n",
    "import numpy as np\n",
    "from sklearn.model_selection import train_test_split\n",
    "import matplotlib.pyplot as plt\n",
    "from imblearn.over_sampling import SMOTE\n",
    "from sklearn.preprocessing import OneHotEncoder\n",
    "from sklearn.ensemble import RandomForestClassifier\n",
    "from sklearn.metrics import accuracy_score\n",
    "from sklearn.model_selection import GridSearchCV\n",
    "from sklearn.ensemble import AdaBoostClassifier, GradientBoostingClassifier\n",
    "from xgboost import XGBClassifier\n",
    "\n",
    "from tensorflow.keras.models import Sequential\n",
    "from tensorflow.keras.layers import Dense"
   ]
  },
  {
   "cell_type": "code",
   "execution_count": 31,
   "metadata": {},
   "outputs": [],
   "source": [
    "train = pd.read_csv('train.csv')\n",
    "test = pd.read_csv('test.csv')"
   ]
  },
  {
   "cell_type": "code",
   "execution_count": 32,
   "metadata": {},
   "outputs": [
    {
     "data": {
      "text/plain": [
       "891"
      ]
     },
     "execution_count": 32,
     "metadata": {},
     "output_type": "execute_result"
    }
   ],
   "source": [
    "len(train)"
   ]
  },
  {
   "cell_type": "code",
   "execution_count": 17,
   "metadata": {},
   "outputs": [],
   "source": [
    "#function to load the dataset, split to x and y, drop PassengerId, name, ticket variables, split the train dataset to train and validation\n",
    "# def load_dataset(data):\n",
    "    \n",
    "#     data = pd.read_csv(data)\n",
    "#     x = data.drop(['PassengerId','Survived','Name','Ticket'],axis=1)\n",
    "#     y = data['Survived']\n",
    "        \n",
    "#     #splitting to train and test sets\n",
    "#     x_train, x_val, y_train, y_val = train_test_split(x,y,test_size=0.2, random_state=89)\n",
    "        \n",
    "#     return x_train, x_val, y_train, y_val"
   ]
  },
  {
   "cell_type": "code",
   "execution_count": 23,
   "metadata": {
    "jupyter": {
     "source_hidden": true
    }
   },
   "outputs": [],
   "source": [
    "#x_train, x_val, y_train, y_val = load_dataset('train.csv')"
   ]
  },
  {
   "cell_type": "code",
   "execution_count": 33,
   "metadata": {},
   "outputs": [
    {
     "data": {
      "text/html": [
       "<div>\n",
       "<style scoped>\n",
       "    .dataframe tbody tr th:only-of-type {\n",
       "        vertical-align: middle;\n",
       "    }\n",
       "\n",
       "    .dataframe tbody tr th {\n",
       "        vertical-align: top;\n",
       "    }\n",
       "\n",
       "    .dataframe thead th {\n",
       "        text-align: right;\n",
       "    }\n",
       "</style>\n",
       "<table border=\"1\" class=\"dataframe\">\n",
       "  <thead>\n",
       "    <tr style=\"text-align: right;\">\n",
       "      <th></th>\n",
       "      <th>PassengerId</th>\n",
       "      <th>Survived</th>\n",
       "      <th>Pclass</th>\n",
       "      <th>Name</th>\n",
       "      <th>Sex</th>\n",
       "      <th>Age</th>\n",
       "      <th>SibSp</th>\n",
       "      <th>Parch</th>\n",
       "      <th>Ticket</th>\n",
       "      <th>Fare</th>\n",
       "      <th>Cabin</th>\n",
       "      <th>Embarked</th>\n",
       "    </tr>\n",
       "  </thead>\n",
       "  <tbody>\n",
       "    <tr>\n",
       "      <th>0</th>\n",
       "      <td>1</td>\n",
       "      <td>0</td>\n",
       "      <td>3</td>\n",
       "      <td>Braund, Mr. Owen Harris</td>\n",
       "      <td>male</td>\n",
       "      <td>22.0</td>\n",
       "      <td>1</td>\n",
       "      <td>0</td>\n",
       "      <td>A/5 21171</td>\n",
       "      <td>7.2500</td>\n",
       "      <td>NaN</td>\n",
       "      <td>S</td>\n",
       "    </tr>\n",
       "    <tr>\n",
       "      <th>1</th>\n",
       "      <td>2</td>\n",
       "      <td>1</td>\n",
       "      <td>1</td>\n",
       "      <td>Cumings, Mrs. John Bradley (Florence Briggs Th...</td>\n",
       "      <td>female</td>\n",
       "      <td>38.0</td>\n",
       "      <td>1</td>\n",
       "      <td>0</td>\n",
       "      <td>PC 17599</td>\n",
       "      <td>71.2833</td>\n",
       "      <td>C85</td>\n",
       "      <td>C</td>\n",
       "    </tr>\n",
       "    <tr>\n",
       "      <th>2</th>\n",
       "      <td>3</td>\n",
       "      <td>1</td>\n",
       "      <td>3</td>\n",
       "      <td>Heikkinen, Miss. Laina</td>\n",
       "      <td>female</td>\n",
       "      <td>26.0</td>\n",
       "      <td>0</td>\n",
       "      <td>0</td>\n",
       "      <td>STON/O2. 3101282</td>\n",
       "      <td>7.9250</td>\n",
       "      <td>NaN</td>\n",
       "      <td>S</td>\n",
       "    </tr>\n",
       "    <tr>\n",
       "      <th>3</th>\n",
       "      <td>4</td>\n",
       "      <td>1</td>\n",
       "      <td>1</td>\n",
       "      <td>Futrelle, Mrs. Jacques Heath (Lily May Peel)</td>\n",
       "      <td>female</td>\n",
       "      <td>35.0</td>\n",
       "      <td>1</td>\n",
       "      <td>0</td>\n",
       "      <td>113803</td>\n",
       "      <td>53.1000</td>\n",
       "      <td>C123</td>\n",
       "      <td>S</td>\n",
       "    </tr>\n",
       "    <tr>\n",
       "      <th>4</th>\n",
       "      <td>5</td>\n",
       "      <td>0</td>\n",
       "      <td>3</td>\n",
       "      <td>Allen, Mr. William Henry</td>\n",
       "      <td>male</td>\n",
       "      <td>35.0</td>\n",
       "      <td>0</td>\n",
       "      <td>0</td>\n",
       "      <td>373450</td>\n",
       "      <td>8.0500</td>\n",
       "      <td>NaN</td>\n",
       "      <td>S</td>\n",
       "    </tr>\n",
       "  </tbody>\n",
       "</table>\n",
       "</div>"
      ],
      "text/plain": [
       "   PassengerId  Survived  Pclass  \\\n",
       "0            1         0       3   \n",
       "1            2         1       1   \n",
       "2            3         1       3   \n",
       "3            4         1       1   \n",
       "4            5         0       3   \n",
       "\n",
       "                                                Name     Sex   Age  SibSp  \\\n",
       "0                            Braund, Mr. Owen Harris    male  22.0      1   \n",
       "1  Cumings, Mrs. John Bradley (Florence Briggs Th...  female  38.0      1   \n",
       "2                             Heikkinen, Miss. Laina  female  26.0      0   \n",
       "3       Futrelle, Mrs. Jacques Heath (Lily May Peel)  female  35.0      1   \n",
       "4                           Allen, Mr. William Henry    male  35.0      0   \n",
       "\n",
       "   Parch            Ticket     Fare Cabin Embarked  \n",
       "0      0         A/5 21171   7.2500   NaN        S  \n",
       "1      0          PC 17599  71.2833   C85        C  \n",
       "2      0  STON/O2. 3101282   7.9250   NaN        S  \n",
       "3      0            113803  53.1000  C123        S  \n",
       "4      0            373450   8.0500   NaN        S  "
      ]
     },
     "execution_count": 33,
     "metadata": {},
     "output_type": "execute_result"
    }
   ],
   "source": [
    "train.head()"
   ]
  },
  {
   "cell_type": "code",
   "execution_count": 4,
   "metadata": {},
   "outputs": [
    {
     "data": {
      "text/plain": [
       "PassengerId      int64\n",
       "Survived         int64\n",
       "Pclass           int64\n",
       "Name            object\n",
       "Sex             object\n",
       "Age            float64\n",
       "SibSp            int64\n",
       "Parch            int64\n",
       "Ticket          object\n",
       "Fare           float64\n",
       "Cabin           object\n",
       "Embarked        object\n",
       "dtype: object"
      ]
     },
     "execution_count": 4,
     "metadata": {},
     "output_type": "execute_result"
    }
   ],
   "source": [
    "train.dtypes"
   ]
  },
  {
   "cell_type": "code",
   "execution_count": 34,
   "metadata": {},
   "outputs": [
    {
     "name": "stdout",
     "output_type": "stream",
     "text": [
      "PassengerId     0.000000\n",
      "Survived        0.000000\n",
      "Pclass          0.000000\n",
      "Name            0.000000\n",
      "Sex             0.000000\n",
      "Age            19.865320\n",
      "SibSp           0.000000\n",
      "Parch           0.000000\n",
      "Ticket          0.000000\n",
      "Fare            0.000000\n",
      "Cabin          77.104377\n",
      "Embarked        0.224467\n",
      "dtype: float64\n"
     ]
    }
   ],
   "source": [
    "#checking missing values\n",
    "\n",
    "train_missing = ((train.isnull().sum())/len(train))*100\n",
    "test_missing = ((test.isnull().sum())/len(test))*100\n",
    "print(train_missing)\n",
    "#drop cabin variable \n",
    "\n",
    "#variables to drop -->PassengerId, Cabin, Name, Ticket\n",
    "#variables to impute --> embarked, age, "
   ]
  },
  {
   "cell_type": "code",
   "execution_count": 35,
   "metadata": {},
   "outputs": [
    {
     "data": {
      "image/png": "[encoded data removed]",
      "text/plain": [
       "<Figure size 432x288 with 1 Axes>"
      ]
     },
     "metadata": {
      "needs_background": "light"
     },
     "output_type": "display_data"
    }
   ],
   "source": [
    "#visualizing age variable to decide wehther to impute mean or median \n",
    "\n",
    "plt.hist(train.Age.values)\n",
    "plt.show()\n",
    "\n",
    "# impute median"
   ]
  },
  {
   "cell_type": "code",
   "execution_count": 9,
   "metadata": {},
   "outputs": [
    {
     "data": {
      "text/plain": [
       "'S'"
      ]
     },
     "execution_count": 9,
     "metadata": {},
     "output_type": "execute_result"
    }
   ],
   "source": [
    "train['Embarked'].mode()[0]"
   ]
  },
  {
   "cell_type": "code",
   "execution_count": 36,
   "metadata": {},
   "outputs": [],
   "source": [
    "#imputing the median for age variable & mode for Embarked variable\n",
    "    \n",
    "train['Age'] = train['Age'].fillna(train['Age'].median())\n",
    "train['Embarked'] = train['Embarked'].fillna(train['Embarked'].mode()[0])"
   ]
  },
  {
   "cell_type": "code",
   "execution_count": 37,
   "metadata": {},
   "outputs": [],
   "source": [
    "#imputing median for age  & fare in the test set\n",
    "test['Age'] = test['Age'].fillna(test['Age'].median())\n",
    "test['Fare'] = test['Fare'].fillna(test['Fare'].median())\n",
    "#train['Embarked']=train['Embarked'].fillna(train['Embarked'].mode())"
   ]
  },
  {
   "cell_type": "code",
   "execution_count": 38,
   "metadata": {},
   "outputs": [],
   "source": [
    "#dropping the cabin variable as it has more than 50% of its values missing\n",
    "train.drop(['Cabin'],axis=1, inplace=True)\n",
    "test.drop(['Cabin'],axis=1, inplace=True)"
   ]
  },
  {
   "cell_type": "code",
   "execution_count": 39,
   "metadata": {},
   "outputs": [
    {
     "data": {
      "text/plain": [
       "PassengerId    0\n",
       "Survived       0\n",
       "Pclass         0\n",
       "Name           0\n",
       "Sex            0\n",
       "Age            0\n",
       "SibSp          0\n",
       "Parch          0\n",
       "Ticket         0\n",
       "Fare           0\n",
       "Embarked       0\n",
       "dtype: int64"
      ]
     },
     "execution_count": 39,
     "metadata": {},
     "output_type": "execute_result"
    }
   ],
   "source": [
    "train.isnull().sum()"
   ]
  },
  {
   "cell_type": "code",
   "execution_count": 41,
   "metadata": {},
   "outputs": [
    {
     "data": {
      "text/plain": [
       "PassengerId      int64\n",
       "Survived         int64\n",
       "Pclass           int64\n",
       "Name            object\n",
       "Sex             object\n",
       "Age            float64\n",
       "SibSp            int64\n",
       "Parch            int64\n",
       "Ticket          object\n",
       "Fare           float64\n",
       "Embarked        object\n",
       "dtype: object"
      ]
     },
     "execution_count": 41,
     "metadata": {},
     "output_type": "execute_result"
    }
   ],
   "source": [
    "train.dtypes"
   ]
  },
  {
   "cell_type": "code",
   "execution_count": 46,
   "metadata": {},
   "outputs": [],
   "source": [
    "#category encoding categorical variables --> sex, embarked\n",
    "def category_encode(dataset, variables):\n",
    "    for variable in variables:\n",
    "        \n",
    "        dataset[variable] = dataset[variable].astype('category')\n",
    "        dataset[variable] = dataset[variable].cat.codes\n",
    "    \n",
    "    return dataset\n",
    "# train['Sex'] = train['Sex'].astype('category')\n",
    "# train['Embarked'] = train['Embarked'].astype('category')\n",
    "# test['Sex'] = test['Sex'].astype('category')\n",
    "# test['Embarked'] = test['Embarked'].astype('category')\n",
    "\n",
    "# train['Sex'] = train['Sex'].cat.codes\n",
    "# train['Embarked'] = train['Embarked'].cat.codes\n",
    "# test['Sex'] = test['Sex'].cat.codes\n",
    "# test['Embarked'] = test['Embarked'].cat.codes"
   ]
  },
  {
   "cell_type": "code",
   "execution_count": 47,
   "metadata": {},
   "outputs": [
    {
     "data": {
      "text/html": [
       "<div>\n",
       "<style scoped>\n",
       "    .dataframe tbody tr th:only-of-type {\n",
       "        vertical-align: middle;\n",
       "    }\n",
       "\n",
       "    .dataframe tbody tr th {\n",
       "        vertical-align: top;\n",
       "    }\n",
       "\n",
       "    .dataframe thead th {\n",
       "        text-align: right;\n",
       "    }\n",
       "</style>\n",
       "<table border=\"1\" class=\"dataframe\">\n",
       "  <thead>\n",
       "    <tr style=\"text-align: right;\">\n",
       "      <th></th>\n",
       "      <th>PassengerId</th>\n",
       "      <th>Pclass</th>\n",
       "      <th>Name</th>\n",
       "      <th>Sex</th>\n",
       "      <th>Age</th>\n",
       "      <th>SibSp</th>\n",
       "      <th>Parch</th>\n",
       "      <th>Ticket</th>\n",
       "      <th>Fare</th>\n",
       "      <th>Embarked</th>\n",
       "    </tr>\n",
       "  </thead>\n",
       "  <tbody>\n",
       "    <tr>\n",
       "      <th>0</th>\n",
       "      <td>892</td>\n",
       "      <td>3</td>\n",
       "      <td>Kelly, Mr. James</td>\n",
       "      <td>1</td>\n",
       "      <td>34.5</td>\n",
       "      <td>0</td>\n",
       "      <td>0</td>\n",
       "      <td>330911</td>\n",
       "      <td>7.8292</td>\n",
       "      <td>1</td>\n",
       "    </tr>\n",
       "    <tr>\n",
       "      <th>1</th>\n",
       "      <td>893</td>\n",
       "      <td>3</td>\n",
       "      <td>Wilkes, Mrs. James (Ellen Needs)</td>\n",
       "      <td>0</td>\n",
       "      <td>47.0</td>\n",
       "      <td>1</td>\n",
       "      <td>0</td>\n",
       "      <td>363272</td>\n",
       "      <td>7.0000</td>\n",
       "      <td>2</td>\n",
       "    </tr>\n",
       "    <tr>\n",
       "      <th>2</th>\n",
       "      <td>894</td>\n",
       "      <td>2</td>\n",
       "      <td>Myles, Mr. Thomas Francis</td>\n",
       "      <td>1</td>\n",
       "      <td>62.0</td>\n",
       "      <td>0</td>\n",
       "      <td>0</td>\n",
       "      <td>240276</td>\n",
       "      <td>9.6875</td>\n",
       "      <td>1</td>\n",
       "    </tr>\n",
       "    <tr>\n",
       "      <th>3</th>\n",
       "      <td>895</td>\n",
       "      <td>3</td>\n",
       "      <td>Wirz, Mr. Albert</td>\n",
       "      <td>1</td>\n",
       "      <td>27.0</td>\n",
       "      <td>0</td>\n",
       "      <td>0</td>\n",
       "      <td>315154</td>\n",
       "      <td>8.6625</td>\n",
       "      <td>2</td>\n",
       "    </tr>\n",
       "    <tr>\n",
       "      <th>4</th>\n",
       "      <td>896</td>\n",
       "      <td>3</td>\n",
       "      <td>Hirvonen, Mrs. Alexander (Helga E Lindqvist)</td>\n",
       "      <td>0</td>\n",
       "      <td>22.0</td>\n",
       "      <td>1</td>\n",
       "      <td>1</td>\n",
       "      <td>3101298</td>\n",
       "      <td>12.2875</td>\n",
       "      <td>2</td>\n",
       "    </tr>\n",
       "    <tr>\n",
       "      <th>...</th>\n",
       "      <td>...</td>\n",
       "      <td>...</td>\n",
       "      <td>...</td>\n",
       "      <td>...</td>\n",
       "      <td>...</td>\n",
       "      <td>...</td>\n",
       "      <td>...</td>\n",
       "      <td>...</td>\n",
       "      <td>...</td>\n",
       "      <td>...</td>\n",
       "    </tr>\n",
       "    <tr>\n",
       "      <th>413</th>\n",
       "      <td>1305</td>\n",
       "      <td>3</td>\n",
       "      <td>Spector, Mr. Woolf</td>\n",
       "      <td>1</td>\n",
       "      <td>27.0</td>\n",
       "      <td>0</td>\n",
       "      <td>0</td>\n",
       "      <td>A.5. 3236</td>\n",
       "      <td>8.0500</td>\n",
       "      <td>2</td>\n",
       "    </tr>\n",
       "    <tr>\n",
       "      <th>414</th>\n",
       "      <td>1306</td>\n",
       "      <td>1</td>\n",
       "      <td>Oliva y Ocana, Dona. Fermina</td>\n",
       "      <td>0</td>\n",
       "      <td>39.0</td>\n",
       "      <td>0</td>\n",
       "      <td>0</td>\n",
       "      <td>PC 17758</td>\n",
       "      <td>108.9000</td>\n",
       "      <td>0</td>\n",
       "    </tr>\n",
       "    <tr>\n",
       "      <th>415</th>\n",
       "      <td>1307</td>\n",
       "      <td>3</td>\n",
       "      <td>Saether, Mr. Simon Sivertsen</td>\n",
       "      <td>1</td>\n",
       "      <td>38.5</td>\n",
       "      <td>0</td>\n",
       "      <td>0</td>\n",
       "      <td>SOTON/O.Q. 3101262</td>\n",
       "      <td>7.2500</td>\n",
       "      <td>2</td>\n",
       "    </tr>\n",
       "    <tr>\n",
       "      <th>416</th>\n",
       "      <td>1308</td>\n",
       "      <td>3</td>\n",
       "      <td>Ware, Mr. Frederick</td>\n",
       "      <td>1</td>\n",
       "      <td>27.0</td>\n",
       "      <td>0</td>\n",
       "      <td>0</td>\n",
       "      <td>359309</td>\n",
       "      <td>8.0500</td>\n",
       "      <td>2</td>\n",
       "    </tr>\n",
       "    <tr>\n",
       "      <th>417</th>\n",
       "      <td>1309</td>\n",
       "      <td>3</td>\n",
       "      <td>Peter, Master. Michael J</td>\n",
       "      <td>1</td>\n",
       "      <td>27.0</td>\n",
       "      <td>1</td>\n",
       "      <td>1</td>\n",
       "      <td>2668</td>\n",
       "      <td>22.3583</td>\n",
       "      <td>0</td>\n",
       "    </tr>\n",
       "  </tbody>\n",
       "</table>\n",
       "<p>418 rows × 10 columns</p>\n",
       "</div>"
      ],
      "text/plain": [
       "     PassengerId  Pclass                                          Name  Sex  \\\n",
       "0            892       3                              Kelly, Mr. James    1   \n",
       "1            893       3              Wilkes, Mrs. James (Ellen Needs)    0   \n",
       "2            894       2                     Myles, Mr. Thomas Francis    1   \n",
       "3            895       3                              Wirz, Mr. Albert    1   \n",
       "4            896       3  Hirvonen, Mrs. Alexander (Helga E Lindqvist)    0   \n",
       "..           ...     ...                                           ...  ...   \n",
       "413         1305       3                            Spector, Mr. Woolf    1   \n",
       "414         1306       1                  Oliva y Ocana, Dona. Fermina    0   \n",
       "415         1307       3                  Saether, Mr. Simon Sivertsen    1   \n",
       "416         1308       3                           Ware, Mr. Frederick    1   \n",
       "417         1309       3                      Peter, Master. Michael J    1   \n",
       "\n",
       "      Age  SibSp  Parch              Ticket      Fare  Embarked  \n",
       "0    34.5      0      0              330911    7.8292         1  \n",
       "1    47.0      1      0              363272    7.0000         2  \n",
       "2    62.0      0      0              240276    9.6875         1  \n",
       "3    27.0      0      0              315154    8.6625         2  \n",
       "4    22.0      1      1             3101298   12.2875         2  \n",
       "..    ...    ...    ...                 ...       ...       ...  \n",
       "413  27.0      0      0           A.5. 3236    8.0500         2  \n",
       "414  39.0      0      0            PC 17758  108.9000         0  \n",
       "415  38.5      0      0  SOTON/O.Q. 3101262    7.2500         2  \n",
       "416  27.0      0      0              359309    8.0500         2  \n",
       "417  27.0      1      1                2668   22.3583         0  \n",
       "\n",
       "[418 rows x 10 columns]"
      ]
     },
     "execution_count": 47,
     "metadata": {},
     "output_type": "execute_result"
    }
   ],
   "source": [
    "category_encode(train, ['Sex','Embarked'])\n",
    "category_encode(test,['Sex','Embarked'])"
   ]
  },
  {
   "cell_type": "code",
   "execution_count": 48,
   "metadata": {},
   "outputs": [
    {
     "data": {
      "text/html": [
       "<div>\n",
       "<style scoped>\n",
       "    .dataframe tbody tr th:only-of-type {\n",
       "        vertical-align: middle;\n",
       "    }\n",
       "\n",
       "    .dataframe tbody tr th {\n",
       "        vertical-align: top;\n",
       "    }\n",
       "\n",
       "    .dataframe thead th {\n",
       "        text-align: right;\n",
       "    }\n",
       "</style>\n",
       "<table border=\"1\" class=\"dataframe\">\n",
       "  <thead>\n",
       "    <tr style=\"text-align: right;\">\n",
       "      <th></th>\n",
       "      <th>PassengerId</th>\n",
       "      <th>Survived</th>\n",
       "      <th>Pclass</th>\n",
       "      <th>Name</th>\n",
       "      <th>Sex</th>\n",
       "      <th>Age</th>\n",
       "      <th>SibSp</th>\n",
       "      <th>Parch</th>\n",
       "      <th>Ticket</th>\n",
       "      <th>Fare</th>\n",
       "      <th>Embarked</th>\n",
       "    </tr>\n",
       "  </thead>\n",
       "  <tbody>\n",
       "    <tr>\n",
       "      <th>0</th>\n",
       "      <td>1</td>\n",
       "      <td>0</td>\n",
       "      <td>3</td>\n",
       "      <td>Braund, Mr. Owen Harris</td>\n",
       "      <td>1</td>\n",
       "      <td>22.0</td>\n",
       "      <td>1</td>\n",
       "      <td>0</td>\n",
       "      <td>A/5 21171</td>\n",
       "      <td>7.2500</td>\n",
       "      <td>2</td>\n",
       "    </tr>\n",
       "    <tr>\n",
       "      <th>1</th>\n",
       "      <td>2</td>\n",
       "      <td>1</td>\n",
       "      <td>1</td>\n",
       "      <td>Cumings, Mrs. John Bradley (Florence Briggs Th...</td>\n",
       "      <td>0</td>\n",
       "      <td>38.0</td>\n",
       "      <td>1</td>\n",
       "      <td>0</td>\n",
       "      <td>PC 17599</td>\n",
       "      <td>71.2833</td>\n",
       "      <td>0</td>\n",
       "    </tr>\n",
       "    <tr>\n",
       "      <th>2</th>\n",
       "      <td>3</td>\n",
       "      <td>1</td>\n",
       "      <td>3</td>\n",
       "      <td>Heikkinen, Miss. Laina</td>\n",
       "      <td>0</td>\n",
       "      <td>26.0</td>\n",
       "      <td>0</td>\n",
       "      <td>0</td>\n",
       "      <td>STON/O2. 3101282</td>\n",
       "      <td>7.9250</td>\n",
       "      <td>2</td>\n",
       "    </tr>\n",
       "    <tr>\n",
       "      <th>3</th>\n",
       "      <td>4</td>\n",
       "      <td>1</td>\n",
       "      <td>1</td>\n",
       "      <td>Futrelle, Mrs. Jacques Heath (Lily May Peel)</td>\n",
       "      <td>0</td>\n",
       "      <td>35.0</td>\n",
       "      <td>1</td>\n",
       "      <td>0</td>\n",
       "      <td>113803</td>\n",
       "      <td>53.1000</td>\n",
       "      <td>2</td>\n",
       "    </tr>\n",
       "    <tr>\n",
       "      <th>4</th>\n",
       "      <td>5</td>\n",
       "      <td>0</td>\n",
       "      <td>3</td>\n",
       "      <td>Allen, Mr. William Henry</td>\n",
       "      <td>1</td>\n",
       "      <td>35.0</td>\n",
       "      <td>0</td>\n",
       "      <td>0</td>\n",
       "      <td>373450</td>\n",
       "      <td>8.0500</td>\n",
       "      <td>2</td>\n",
       "    </tr>\n",
       "  </tbody>\n",
       "</table>\n",
       "</div>"
      ],
      "text/plain": [
       "   PassengerId  Survived  Pclass  \\\n",
       "0            1         0       3   \n",
       "1            2         1       1   \n",
       "2            3         1       3   \n",
       "3            4         1       1   \n",
       "4            5         0       3   \n",
       "\n",
       "                                                Name  Sex   Age  SibSp  Parch  \\\n",
       "0                            Braund, Mr. Owen Harris    1  22.0      1      0   \n",
       "1  Cumings, Mrs. John Bradley (Florence Briggs Th...    0  38.0      1      0   \n",
       "2                             Heikkinen, Miss. Laina    0  26.0      0      0   \n",
       "3       Futrelle, Mrs. Jacques Heath (Lily May Peel)    0  35.0      1      0   \n",
       "4                           Allen, Mr. William Henry    1  35.0      0      0   \n",
       "\n",
       "             Ticket     Fare  Embarked  \n",
       "0         A/5 21171   7.2500         2  \n",
       "1          PC 17599  71.2833         0  \n",
       "2  STON/O2. 3101282   7.9250         2  \n",
       "3            113803  53.1000         2  \n",
       "4            373450   8.0500         2  "
      ]
     },
     "execution_count": 48,
     "metadata": {},
     "output_type": "execute_result"
    }
   ],
   "source": [
    "train.head()"
   ]
  },
  {
   "cell_type": "code",
   "execution_count": 49,
   "metadata": {},
   "outputs": [
    {
     "data": {
      "image/png": "[encoded data removed]",
      "text/plain": [
       "<Figure size 504x504 with 1 Axes>"
      ]
     },
     "metadata": {},
     "output_type": "display_data"
    }
   ],
   "source": [
    "#visualizing class imbalance in the train data set\n",
    "labels, frequencies = np.unique(train.Survived.values, return_counts=True)\n",
    "plt.figure(figsize = (7,7))\n",
    "plt.pie(frequencies,labels=labels,autopct = '%1.1f%%' )\n",
    "plt.show()"
   ]
  },
  {
   "cell_type": "code",
   "execution_count": 21,
   "metadata": {
    "collapsed": true,
    "jupyter": {
     "outputs_hidden": true
    }
   },
   "outputs": [
    {
     "data": {
      "text/plain": [
       "Index(['PassengerId', 'Survived', 'Pclass', 'Name', 'Sex', 'Age', 'SibSp',\n",
       "       'Parch', 'Ticket', 'Fare', 'Embarked'],\n",
       "      dtype='object')"
      ]
     },
     "execution_count": 21,
     "metadata": {},
     "output_type": "execute_result"
    }
   ],
   "source": [
    "train.columns"
   ]
  },
  {
   "cell_type": "code",
   "execution_count": 50,
   "metadata": {},
   "outputs": [],
   "source": [
    "#splitting to x and y --> dropping variables PassengerId, Name, Ticket\n",
    "\n",
    "x = train.drop(['PassengerId','Name','Ticket','Survived'],axis=1)\n",
    "y = train['Survived']\n",
    "\n",
    "x_test = test.drop(['PassengerId','Name','Ticket'], axis=1)\n",
    "\n"
   ]
  },
  {
   "cell_type": "code",
   "execution_count": 51,
   "metadata": {},
   "outputs": [],
   "source": [
    "#splitting train set to train and validation sets\n",
    "x_train, x_val, y_train, y_val = train_test_split(x,y,test_size=0.3, random_state=89)"
   ]
  },
  {
   "cell_type": "code",
   "execution_count": 52,
   "metadata": {},
   "outputs": [
    {
     "data": {
      "text/html": [
       "<div>\n",
       "<style scoped>\n",
       "    .dataframe tbody tr th:only-of-type {\n",
       "        vertical-align: middle;\n",
       "    }\n",
       "\n",
       "    .dataframe tbody tr th {\n",
       "        vertical-align: top;\n",
       "    }\n",
       "\n",
       "    .dataframe thead th {\n",
       "        text-align: right;\n",
       "    }\n",
       "</style>\n",
       "<table border=\"1\" class=\"dataframe\">\n",
       "  <thead>\n",
       "    <tr style=\"text-align: right;\">\n",
       "      <th></th>\n",
       "      <th>Pclass</th>\n",
       "      <th>Sex</th>\n",
       "      <th>Age</th>\n",
       "      <th>SibSp</th>\n",
       "      <th>Parch</th>\n",
       "      <th>Fare</th>\n",
       "      <th>Embarked</th>\n",
       "    </tr>\n",
       "  </thead>\n",
       "  <tbody>\n",
       "    <tr>\n",
       "      <th>156</th>\n",
       "      <td>3</td>\n",
       "      <td>0</td>\n",
       "      <td>16.0</td>\n",
       "      <td>0</td>\n",
       "      <td>0</td>\n",
       "      <td>7.7333</td>\n",
       "      <td>1</td>\n",
       "    </tr>\n",
       "    <tr>\n",
       "      <th>412</th>\n",
       "      <td>1</td>\n",
       "      <td>0</td>\n",
       "      <td>33.0</td>\n",
       "      <td>1</td>\n",
       "      <td>0</td>\n",
       "      <td>90.0000</td>\n",
       "      <td>1</td>\n",
       "    </tr>\n",
       "    <tr>\n",
       "      <th>817</th>\n",
       "      <td>2</td>\n",
       "      <td>1</td>\n",
       "      <td>31.0</td>\n",
       "      <td>1</td>\n",
       "      <td>1</td>\n",
       "      <td>37.0042</td>\n",
       "      <td>0</td>\n",
       "    </tr>\n",
       "    <tr>\n",
       "      <th>686</th>\n",
       "      <td>3</td>\n",
       "      <td>1</td>\n",
       "      <td>14.0</td>\n",
       "      <td>4</td>\n",
       "      <td>1</td>\n",
       "      <td>39.6875</td>\n",
       "      <td>2</td>\n",
       "    </tr>\n",
       "    <tr>\n",
       "      <th>318</th>\n",
       "      <td>1</td>\n",
       "      <td>0</td>\n",
       "      <td>31.0</td>\n",
       "      <td>0</td>\n",
       "      <td>2</td>\n",
       "      <td>164.8667</td>\n",
       "      <td>2</td>\n",
       "    </tr>\n",
       "  </tbody>\n",
       "</table>\n",
       "</div>"
      ],
      "text/plain": [
       "     Pclass  Sex   Age  SibSp  Parch      Fare  Embarked\n",
       "156       3    0  16.0      0      0    7.7333         1\n",
       "412       1    0  33.0      1      0   90.0000         1\n",
       "817       2    1  31.0      1      1   37.0042         0\n",
       "686       3    1  14.0      4      1   39.6875         2\n",
       "318       1    0  31.0      0      2  164.8667         2"
      ]
     },
     "execution_count": 52,
     "metadata": {},
     "output_type": "execute_result"
    }
   ],
   "source": [
    "x_train.head()"
   ]
  },
  {
   "cell_type": "code",
   "execution_count": 53,
   "metadata": {},
   "outputs": [],
   "source": [
    "#resampling to balance the train set --> SMOTE resampling\n",
    "smote = SMOTE()\n",
    "\n",
    "x_smote, y_smote = smote.fit_resample(x_train, y_train)\n",
    "#help(SMOTE)"
   ]
  },
  {
   "cell_type": "code",
   "execution_count": 54,
   "metadata": {},
   "outputs": [
    {
     "name": "stdout",
     "output_type": "stream",
     "text": [
      "X_train:623, Y_train:623, Resampled X:760, Resampled Y:760\n"
     ]
    }
   ],
   "source": [
    "print('X_train:{}, Y_train:{}, Resampled X:{}, Resampled Y:{}'.format(len(x_train),len(y_train),len(x_smote), len(y_smote)))"
   ]
  },
  {
   "cell_type": "code",
   "execution_count": 55,
   "metadata": {},
   "outputs": [
    {
     "data": {
      "text/plain": [
       "RandomForestClassifier(min_impurity_decrease=0.002, min_samples_leaf=10,\n",
       "                       min_samples_split=15)"
      ]
     },
     "execution_count": 55,
     "metadata": {},
     "output_type": "execute_result"
    }
   ],
   "source": [
    "#Model Fitting\n",
    "\n",
    "randomforest = RandomForestClassifier(min_samples_leaf=10, min_samples_split=15,min_impurity_decrease=0.002)\n",
    "randomforest.fit(x_smote, y_smote)"
   ]
  },
  {
   "cell_type": "code",
   "execution_count": 56,
   "metadata": {},
   "outputs": [
    {
     "data": {
      "text/plain": [
       "0.8432835820895522"
      ]
     },
     "execution_count": 56,
     "metadata": {},
     "output_type": "execute_result"
    }
   ],
   "source": [
    "pred_y = randomforest.predict(x_val)\n",
    "accuracy_score(y_true=y_val, y_pred=pred_y)"
   ]
  },
  {
   "cell_type": "code",
   "execution_count": 57,
   "metadata": {},
   "outputs": [],
   "source": [
    "#performing Grid Search CV\n",
    "param_grid = {\n",
    "    'bootstrap': [True],\n",
    "    'max_depth': [80, 90, 100, 110],\n",
    "    'max_features': [1, 2],\n",
    "    'min_samples_leaf': [3, 4, 5],\n",
    "    'min_samples_split': [8, 10, 12],\n",
    "    'n_estimators': [100, 200, 300, 450]\n",
    "}"
   ]
  },
  {
   "cell_type": "code",
   "execution_count": 77,
   "metadata": {},
   "outputs": [],
   "source": [
    "rfc = RandomForestClassifier()\n",
    "grid_search = GridSearchCV(estimator=rfc, param_grid=param_grid, cv=3, n_jobs=-1, verbose=2, scoring='accuracy')"
   ]
  },
  {
   "cell_type": "code",
   "execution_count": 78,
   "metadata": {},
   "outputs": [
    {
     "name": "stdout",
     "output_type": "stream",
     "text": [
      "Fitting 3 folds for each of 288 candidates, totalling 864 fits\n"
     ]
    },
    {
     "name": "stderr",
     "output_type": "stream",
     "text": [
      "[Parallel(n_jobs=-1)]: Using backend LokyBackend with 8 concurrent workers.\n",
      "[Parallel(n_jobs=-1)]: Done  25 tasks      | elapsed:   42.3s\n",
      "[Parallel(n_jobs=-1)]: Done 146 tasks      | elapsed:   56.3s\n",
      "[Parallel(n_jobs=-1)]: Done 349 tasks      | elapsed:  1.4min\n",
      "[Parallel(n_jobs=-1)]: Done 632 tasks      | elapsed:  2.1min\n",
      "[Parallel(n_jobs=-1)]: Done 864 out of 864 | elapsed:  2.7min finished\n"
     ]
    },
    {
     "data": {
      "text/plain": [
       "GridSearchCV(cv=3, estimator=RandomForestClassifier(), n_jobs=-1,\n",
       "             param_grid={'bootstrap': [True], 'max_depth': [80, 90, 100, 110],\n",
       "                         'max_features': [1, 2], 'min_samples_leaf': [3, 4, 5],\n",
       "                         'min_samples_split': [8, 10, 12],\n",
       "                         'n_estimators': [100, 200, 300, 450]},\n",
       "             scoring='accuracy', verbose=2)"
      ]
     },
     "execution_count": 78,
     "metadata": {},
     "output_type": "execute_result"
    }
   ],
   "source": [
    "grid_search.fit(x_smote, y_smote)"
   ]
  },
  {
   "cell_type": "code",
   "execution_count": 81,
   "metadata": {},
   "outputs": [
    {
     "data": {
      "text/plain": [
       "{'bootstrap': True,\n",
       " 'max_depth': 100,\n",
       " 'max_features': 2,\n",
       " 'min_samples_leaf': 3,\n",
       " 'min_samples_split': 10,\n",
       " 'n_estimators': 300}"
      ]
     },
     "execution_count": 81,
     "metadata": {},
     "output_type": "execute_result"
    }
   ],
   "source": [
    "grid_search.best_params_"
   ]
  },
  {
   "cell_type": "code",
   "execution_count": 82,
   "metadata": {},
   "outputs": [
    {
     "data": {
      "text/plain": [
       "RandomForestClassifier(max_depth=10, max_features=2,\n",
       "                       min_impurity_decrease=0.002, min_samples_leaf=3,\n",
       "                       min_samples_split=10, n_estimators=300)"
      ]
     },
     "execution_count": 82,
     "metadata": {},
     "output_type": "execute_result"
    }
   ],
   "source": [
    "randomforest_new = RandomForestClassifier(min_samples_leaf=3, min_samples_split=10,min_impurity_decrease=0.002, n_estimators=300, max_depth=10, max_features=2)\n",
    "randomforest_new.fit(x_smote, y_smote)"
   ]
  },
  {
   "cell_type": "code",
   "execution_count": 83,
   "metadata": {},
   "outputs": [
    {
     "data": {
      "text/plain": [
       "0.8395522388059702"
      ]
     },
     "execution_count": 83,
     "metadata": {},
     "output_type": "execute_result"
    }
   ],
   "source": [
    "pred_y_new = randomforest_new.predict(x_val)\n",
    "accuracy_score(y_true=y_val, y_pred=pred_y_new)"
   ]
  },
  {
   "cell_type": "code",
   "execution_count": 74,
   "metadata": {},
   "outputs": [
    {
     "data": {
      "text/plain": [
       "AdaBoostClassifier(base_estimator=RandomForestClassifier(max_depth=90,\n",
       "                                                         max_features=2,\n",
       "                                                         min_impurity_decrease=0.002,\n",
       "                                                         min_samples_leaf=4,\n",
       "                                                         min_samples_split=8),\n",
       "                   learning_rate=0.01)"
      ]
     },
     "execution_count": 74,
     "metadata": {},
     "output_type": "execute_result"
    }
   ],
   "source": [
    "ada = AdaBoostClassifier(base_estimator=randomforest_new, n_estimators=50, learning_rate=0.01)\n",
    "ada.fit(x_smote, y_smote)"
   ]
  },
  {
   "cell_type": "code",
   "execution_count": 75,
   "metadata": {},
   "outputs": [],
   "source": [
    "y_ada = ada.predict(x_val)"
   ]
  },
  {
   "cell_type": "code",
   "execution_count": 76,
   "metadata": {},
   "outputs": [
    {
     "data": {
      "text/plain": [
       "0.8432835820895522"
      ]
     },
     "execution_count": 76,
     "metadata": {},
     "output_type": "execute_result"
    }
   ],
   "source": [
    "accuracy_score(y_true=y_val, y_pred=y_ada)"
   ]
  },
  {
   "cell_type": "code",
   "execution_count": null,
   "metadata": {},
   "outputs": [],
   "source": []
  },
  {
   "cell_type": "code",
   "execution_count": 50,
   "metadata": {
    "collapsed": true,
    "jupyter": {
     "outputs_hidden": true
    }
   },
   "outputs": [
    {
     "data": {
      "text/plain": [
       "GradientBoostingClassifier()"
      ]
     },
     "execution_count": 50,
     "metadata": {},
     "output_type": "execute_result"
    }
   ],
   "source": [
    "gb=GradientBoostingClassifier()\n",
    "gb.fit(x_smote, y_smote)\n"
   ]
  },
  {
   "cell_type": "code",
   "execution_count": 58,
   "metadata": {},
   "outputs": [
    {
     "data": {
      "text/plain": [
       "0.8395522388059702"
      ]
     },
     "execution_count": 58,
     "metadata": {},
     "output_type": "execute_result"
    }
   ],
   "source": [
    "accuracy_score(y_true = y_val, y_pred=gb.predict(x_val))"
   ]
  },
  {
   "cell_type": "code",
   "execution_count": 92,
   "metadata": {},
   "outputs": [
    {
     "data": {
      "text/plain": [
       "XGBClassifier(base_score=0.5, booster='gbtree', colsample_bylevel=1,\n",
       "              colsample_bynode=1, colsample_bytree=1, gamma=0, gpu_id=-1,\n",
       "              importance_type='gain', interaction_constraints='',\n",
       "              learning_rate=0.01, max_delta_step=0, max_depth=6,\n",
       "              min_child_weight=1, missing=nan, monotone_constraints='()',\n",
       "              n_estimators=100, n_jobs=0, num_parallel_tree=1, random_state=89,\n",
       "              reg_alpha=0, reg_lambda=1, scale_pos_weight=1, subsample=1,\n",
       "              tree_method='exact', validate_parameters=1, verbosity=None)"
      ]
     },
     "execution_count": 92,
     "metadata": {},
     "output_type": "execute_result"
    }
   ],
   "source": [
    "### Fitting XGBoost Model\n",
    "xgb = XGBClassifier(random_state=89, learning_rate=0.01)\n",
    "xgb.fit(x_smote,y_smote)"
   ]
  },
  {
   "cell_type": "code",
   "execution_count": 93,
   "metadata": {},
   "outputs": [
    {
     "data": {
      "text/plain": [
       "0.8582089552238806"
      ]
     },
     "execution_count": 93,
     "metadata": {},
     "output_type": "execute_result"
    }
   ],
   "source": [
    "xgb_y = xgb.predict(x_val)\n",
    "accuracy_score(y_true=y_val, y_pred=xgb_y)"
   ]
  },
  {
   "cell_type": "code",
   "execution_count": 106,
   "metadata": {},
   "outputs": [
    {
     "data": {
      "text/plain": [
       "GridSearchCV(estimator=XGBClassifier(base_score=None, booster=None,\n",
       "                                     colsample_bylevel=None,\n",
       "                                     colsample_bynode=None,\n",
       "                                     colsample_bytree=None, gamma=None,\n",
       "                                     gpu_id=None, importance_type='gain',\n",
       "                                     interaction_constraints=None,\n",
       "                                     learning_rate=None, max_delta_step=None,\n",
       "                                     max_depth=None, min_child_weight=None,\n",
       "                                     missing=nan, monotone_constraints=None,\n",
       "                                     n_estimators=100, n_jobs=None,\n",
       "                                     num_parallel_tree=None, random_state=89,\n",
       "                                     reg_alpha=None, reg_lambda=None,\n",
       "                                     scale_pos_weight=None, subsample=None,\n",
       "                                     tree_method=None, validate_parameters=None,\n",
       "                                     verbosity=None),\n",
       "             param_grid={'learning_rate': array([0.0001 , 0.02008, 0.04006, 0.06004, 0.08002, 0.1    ]),\n",
       "                         'max_depth': [1, 2, 3, 4, 5, 6],\n",
       "                         'n_estimators': [50, 75, 100, 125, 150, 160]},\n",
       "             scoring='accuracy')"
      ]
     },
     "execution_count": 106,
     "metadata": {},
     "output_type": "execute_result"
    }
   ],
   "source": [
    "#parameter tuning the XGBoost model\n",
    "params_grid = {\n",
    "    'max_depth':[1,2,3,4,5,6],\n",
    "    'n_estimators':[50, 75, 100, 125, 150, 160],\n",
    "    'learning_rate': np.linspace(1e-4,0.1,6)\n",
    "}\n",
    "xgb_grid = GridSearchCV(\n",
    "    estimator=XGBClassifier(random_state=89),\n",
    "    param_grid = params_grid,\n",
    "    scoring='accuracy'\n",
    ")\n",
    "\n",
    "xgb_grid.fit(x_smote,y_smote)"
   ]
  },
  {
   "cell_type": "code",
   "execution_count": 109,
   "metadata": {},
   "outputs": [
    {
     "data": {
      "text/plain": [
       "{'learning_rate': 0.040060000000000005, 'max_depth': 6, 'n_estimators': 160}"
      ]
     },
     "execution_count": 109,
     "metadata": {},
     "output_type": "execute_result"
    }
   ],
   "source": [
    "xgb_grid.best_params_"
   ]
  },
  {
   "cell_type": "code",
   "execution_count": 123,
   "metadata": {},
   "outputs": [
    {
     "data": {
      "text/plain": [
       "XGBClassifier(base_score=0.5, booster='gbtree', colsample_bylevel=1,\n",
       "              colsample_bynode=1, colsample_bytree=1, gamma=0, gpu_id=-1,\n",
       "              importance_type='gain', interaction_constraints='',\n",
       "              learning_rate=0.01, max_delta_step=0, max_depth=6,\n",
       "              min_child_weight=1, missing=nan, monotone_constraints='()',\n",
       "              n_estimators=160, n_jobs=0, num_parallel_tree=1, random_state=0,\n",
       "              reg_alpha=0, reg_lambda=1, scale_pos_weight=1, subsample=1,\n",
       "              tree_method='exact', validate_parameters=1, verbosity=None)"
      ]
     },
     "execution_count": 123,
     "metadata": {},
     "output_type": "execute_result"
    }
   ],
   "source": [
    "xgb_new = XGBClassifier(learning_rate=0.01, max_depth=6, n_estimators=160)\n",
    "xgb_new.fit(x_smote, y_smote)"
   ]
  },
  {
   "cell_type": "code",
   "execution_count": 124,
   "metadata": {},
   "outputs": [
    {
     "data": {
      "text/plain": [
       "0.8544776119402985"
      ]
     },
     "execution_count": 124,
     "metadata": {},
     "output_type": "execute_result"
    }
   ],
   "source": [
    "xgb_y_new = xgb_new.predict(x_val)\n",
    "accuracy_score(y_true=y_val, y_pred=xgb_y_new) "
   ]
  },
  {
   "cell_type": "code",
   "execution_count": 117,
   "metadata": {},
   "outputs": [],
   "source": [
    "#fitting a neural network\n",
    "x_neural = np.array(x_smote)\n",
    "y_neural = np.array(y_smote)"
   ]
  },
  {
   "cell_type": "code",
   "execution_count": 114,
   "metadata": {},
   "outputs": [
    {
     "name": "stdout",
     "output_type": "stream",
     "text": [
      "WARNING:tensorflow:From C:\\Users\\DELL\\Anaconda3\\lib\\site-packages\\tensorflow\\python\\ops\\init_ops.py:1251: calling VarianceScaling.__init__ (from tensorflow.python.ops.init_ops) with dtype is deprecated and will be removed in a future version.\n",
      "Instructions for updating:\n",
      "Call initializer instance with the dtype argument instead of passing it to the constructor\n"
     ]
    }
   ],
   "source": [
    "model = Sequential()\n",
    "model.add(Dense(15, input_dim=7, activation='relu'))\n",
    "model.add(Dense(7, activation='relu'))\n",
    "model.add(Dense(1, activation='sigmoid'))"
   ]
  },
  {
   "cell_type": "code",
   "execution_count": 120,
   "metadata": {},
   "outputs": [],
   "source": [
    "model.compile(loss='binary_crossentropy', metrics=['accuracy'],optimizer='Adam')"
   ]
  },
  {
   "cell_type": "code",
   "execution_count": 121,
   "metadata": {
    "collapsed": true,
    "jupyter": {
     "outputs_hidden": true
    }
   },
   "outputs": [
    {
     "name": "stdout",
     "output_type": "stream",
     "text": [
      "Epoch 1/100\n",
      "760/760 [==============================] - 0s 430us/sample - loss: 0.6070 - acc: 0.6816\n",
      "Epoch 2/100\n",
      "760/760 [==============================] - 0s 61us/sample - loss: 0.5868 - acc: 0.6908\n",
      "Epoch 3/100\n",
      "760/760 [==============================] - 0s 62us/sample - loss: 0.5847 - acc: 0.6974\n",
      "Epoch 4/100\n",
      "760/760 [==============================] - 0s 56us/sample - loss: 0.5838 - acc: 0.7039\n",
      "Epoch 5/100\n",
      "760/760 [==============================] - 0s 59us/sample - loss: 0.5811 - acc: 0.7053\n",
      "Epoch 6/100\n",
      "760/760 [==============================] - 0s 58us/sample - loss: 0.5805 - acc: 0.7039\n",
      "Epoch 7/100\n",
      "760/760 [==============================] - 0s 64us/sample - loss: 0.5767 - acc: 0.7013\n",
      "Epoch 8/100\n",
      "760/760 [==============================] - 0s 58us/sample - loss: 0.5753 - acc: 0.7132\n",
      "Epoch 9/100\n",
      "760/760 [==============================] - 0s 62us/sample - loss: 0.5740 - acc: 0.7118\n",
      "Epoch 10/100\n",
      "760/760 [==============================] - 0s 64us/sample - loss: 0.5727 - acc: 0.7118\n",
      "Epoch 11/100\n",
      "760/760 [==============================] - 0s 59us/sample - loss: 0.5683 - acc: 0.7171\n",
      "Epoch 12/100\n",
      "760/760 [==============================] - 0s 62us/sample - loss: 0.5663 - acc: 0.7171\n",
      "Epoch 13/100\n",
      "760/760 [==============================] - 0s 57us/sample - loss: 0.5624 - acc: 0.7197\n",
      "Epoch 14/100\n",
      "760/760 [==============================] - 0s 55us/sample - loss: 0.5650 - acc: 0.7197\n",
      "Epoch 15/100\n",
      "760/760 [==============================] - 0s 61us/sample - loss: 0.5576 - acc: 0.7197\n",
      "Epoch 16/100\n",
      "760/760 [==============================] - 0s 61us/sample - loss: 0.5542 - acc: 0.7145\n",
      "Epoch 17/100\n",
      "760/760 [==============================] - 0s 72us/sample - loss: 0.5529 - acc: 0.7224\n",
      "Epoch 18/100\n",
      "760/760 [==============================] - 0s 59us/sample - loss: 0.5489 - acc: 0.7250\n",
      "Epoch 19/100\n",
      "760/760 [==============================] - 0s 80us/sample - loss: 0.5464 - acc: 0.7263\n",
      "Epoch 20/100\n",
      "760/760 [==============================] - 0s 57us/sample - loss: 0.5451 - acc: 0.7250\n",
      "Epoch 21/100\n",
      "760/760 [==============================] - 0s 79us/sample - loss: 0.5457 - acc: 0.7316\n",
      "Epoch 22/100\n",
      "760/760 [==============================] - 0s 84us/sample - loss: 0.5381 - acc: 0.7342\n",
      "Epoch 23/100\n",
      "760/760 [==============================] - 0s 88us/sample - loss: 0.5367 - acc: 0.7421\n",
      "Epoch 24/100\n",
      "760/760 [==============================] - 0s 97us/sample - loss: 0.5313 - acc: 0.7461\n",
      "Epoch 25/100\n",
      "760/760 [==============================] - 0s 82us/sample - loss: 0.5263 - acc: 0.7487\n",
      "Epoch 26/100\n",
      "760/760 [==============================] - 0s 88us/sample - loss: 0.5301 - acc: 0.7474\n",
      "Epoch 27/100\n",
      "760/760 [==============================] - 0s 83us/sample - loss: 0.5202 - acc: 0.7513\n",
      "Epoch 28/100\n",
      "760/760 [==============================] - 0s 79us/sample - loss: 0.5208 - acc: 0.7566\n",
      "Epoch 29/100\n",
      "760/760 [==============================] - 0s 87us/sample - loss: 0.5125 - acc: 0.7671\n",
      "Epoch 30/100\n",
      "760/760 [==============================] - 0s 88us/sample - loss: 0.5170 - acc: 0.7658\n",
      "Epoch 31/100\n",
      "760/760 [==============================] - 0s 80us/sample - loss: 0.5053 - acc: 0.7724\n",
      "Epoch 32/100\n",
      "760/760 [==============================] - 0s 79us/sample - loss: 0.5076 - acc: 0.7724\n",
      "Epoch 33/100\n",
      "760/760 [==============================] - 0s 79us/sample - loss: 0.5035 - acc: 0.7789\n",
      "Epoch 34/100\n",
      "760/760 [==============================] - 0s 91us/sample - loss: 0.5017 - acc: 0.7816\n",
      "Epoch 35/100\n",
      "760/760 [==============================] - 0s 91us/sample - loss: 0.4974 - acc: 0.7789\n",
      "Epoch 36/100\n",
      "760/760 [==============================] - 0s 82us/sample - loss: 0.4925 - acc: 0.7947\n",
      "Epoch 37/100\n",
      "760/760 [==============================] - 0s 83us/sample - loss: 0.4888 - acc: 0.7895\n",
      "Epoch 38/100\n",
      "760/760 [==============================] - 0s 79us/sample - loss: 0.4999 - acc: 0.7921\n",
      "Epoch 39/100\n",
      "760/760 [==============================] - 0s 70us/sample - loss: 0.4841 - acc: 0.7987\n",
      "Epoch 40/100\n",
      "760/760 [==============================] - 0s 83us/sample - loss: 0.4941 - acc: 0.7882\n",
      "Epoch 41/100\n",
      "760/760 [==============================] - 0s 64us/sample - loss: 0.4792 - acc: 0.8039\n",
      "Epoch 42/100\n",
      "760/760 [==============================] - 0s 67us/sample - loss: 0.4748 - acc: 0.8053\n",
      "Epoch 43/100\n",
      "760/760 [==============================] - 0s 65us/sample - loss: 0.4727 - acc: 0.8079\n",
      "Epoch 44/100\n",
      "760/760 [==============================] - 0s 53us/sample - loss: 0.4701 - acc: 0.8079\n",
      "Epoch 45/100\n",
      "760/760 [==============================] - 0s 64us/sample - loss: 0.4738 - acc: 0.8184\n",
      "Epoch 46/100\n",
      "760/760 [==============================] - 0s 101us/sample - loss: 0.4702 - acc: 0.8053\n",
      "Epoch 47/100\n",
      "760/760 [==============================] - 0s 78us/sample - loss: 0.4667 - acc: 0.8053\n",
      "Epoch 48/100\n",
      "760/760 [==============================] - 0s 70us/sample - loss: 0.4899 - acc: 0.7947\n",
      "Epoch 49/100\n",
      "760/760 [==============================] - 0s 62us/sample - loss: 0.4632 - acc: 0.8092\n",
      "Epoch 50/100\n",
      "760/760 [==============================] - 0s 96us/sample - loss: 0.4583 - acc: 0.8105\n",
      "Epoch 51/100\n",
      "760/760 [==============================] - 0s 75us/sample - loss: 0.4646 - acc: 0.8132\n",
      "Epoch 52/100\n",
      "760/760 [==============================] - 0s 71us/sample - loss: 0.4584 - acc: 0.8171\n",
      "Epoch 53/100\n",
      "760/760 [==============================] - 0s 64us/sample - loss: 0.4538 - acc: 0.8092\n",
      "Epoch 54/100\n",
      "760/760 [==============================] - 0s 63us/sample - loss: 0.4554 - acc: 0.8026\n",
      "Epoch 55/100\n",
      "760/760 [==============================] - 0s 76us/sample - loss: 0.4494 - acc: 0.8184\n",
      "Epoch 56/100\n",
      "760/760 [==============================] - 0s 66us/sample - loss: 0.4493 - acc: 0.8224\n",
      "Epoch 57/100\n",
      "760/760 [==============================] - 0s 68us/sample - loss: 0.4454 - acc: 0.8184\n",
      "Epoch 58/100\n",
      "760/760 [==============================] - 0s 67us/sample - loss: 0.4502 - acc: 0.8145\n",
      "Epoch 59/100\n",
      "760/760 [==============================] - 0s 62us/sample - loss: 0.4423 - acc: 0.8158\n",
      "Epoch 60/100\n",
      "760/760 [==============================] - 0s 80us/sample - loss: 0.4434 - acc: 0.8197\n",
      "Epoch 61/100\n",
      "760/760 [==============================] - 0s 67us/sample - loss: 0.4450 - acc: 0.8171\n",
      "Epoch 62/100\n",
      "760/760 [==============================] - 0s 68us/sample - loss: 0.4439 - acc: 0.8171\n",
      "Epoch 63/100\n",
      "760/760 [==============================] - 0s 62us/sample - loss: 0.4457 - acc: 0.8171\n",
      "Epoch 64/100\n",
      "760/760 [==============================] - 0s 61us/sample - loss: 0.4527 - acc: 0.8079\n",
      "Epoch 65/100\n",
      "760/760 [==============================] - 0s 61us/sample - loss: 0.4409 - acc: 0.8224\n",
      "Epoch 66/100\n",
      "760/760 [==============================] - 0s 70us/sample - loss: 0.4410 - acc: 0.8158\n",
      "Epoch 67/100\n",
      "760/760 [==============================] - 0s 68us/sample - loss: 0.4369 - acc: 0.8184\n",
      "Epoch 68/100\n",
      "760/760 [==============================] - 0s 66us/sample - loss: 0.4383 - acc: 0.8224\n",
      "Epoch 69/100\n",
      "760/760 [==============================] - 0s 75us/sample - loss: 0.4351 - acc: 0.8211\n",
      "Epoch 70/100\n",
      "760/760 [==============================] - 0s 91us/sample - loss: 0.4362 - acc: 0.8224\n",
      "Epoch 71/100\n",
      "760/760 [==============================] - 0s 80us/sample - loss: 0.4375 - acc: 0.8250\n",
      "Epoch 72/100\n",
      "760/760 [==============================] - 0s 82us/sample - loss: 0.4450 - acc: 0.8263\n",
      "Epoch 73/100\n",
      "760/760 [==============================] - 0s 67us/sample - loss: 0.4353 - acc: 0.8118\n",
      "Epoch 74/100\n",
      "760/760 [==============================] - 0s 68us/sample - loss: 0.4311 - acc: 0.8263\n",
      "Epoch 75/100\n",
      "760/760 [==============================] - 0s 78us/sample - loss: 0.4319 - acc: 0.8184\n",
      "Epoch 76/100\n",
      "760/760 [==============================] - 0s 67us/sample - loss: 0.4350 - acc: 0.8224\n",
      "Epoch 77/100\n",
      "760/760 [==============================] - 0s 66us/sample - loss: 0.4295 - acc: 0.8184\n",
      "Epoch 78/100\n",
      "760/760 [==============================] - 0s 63us/sample - loss: 0.4293 - acc: 0.8237\n",
      "Epoch 79/100\n",
      "760/760 [==============================] - 0s 62us/sample - loss: 0.4289 - acc: 0.8184\n",
      "Epoch 80/100\n",
      "760/760 [==============================] - 0s 72us/sample - loss: 0.4311 - acc: 0.8211\n",
      "Epoch 81/100\n",
      "760/760 [==============================] - 0s 66us/sample - loss: 0.4300 - acc: 0.8171\n",
      "Epoch 82/100\n",
      "760/760 [==============================] - 0s 66us/sample - loss: 0.4297 - acc: 0.8211\n",
      "Epoch 83/100\n",
      "760/760 [==============================] - 0s 63us/sample - loss: 0.4247 - acc: 0.8197\n",
      "Epoch 84/100\n",
      "760/760 [==============================] - 0s 62us/sample - loss: 0.4252 - acc: 0.8237\n",
      "Epoch 85/100\n",
      "760/760 [==============================] - 0s 67us/sample - loss: 0.4278 - acc: 0.8132\n",
      "Epoch 86/100\n",
      "760/760 [==============================] - 0s 63us/sample - loss: 0.4216 - acc: 0.8237\n",
      "Epoch 87/100\n",
      "760/760 [==============================] - 0s 73us/sample - loss: 0.4353 - acc: 0.8171\n",
      "Epoch 88/100\n",
      "760/760 [==============================] - 0s 83us/sample - loss: 0.4330 - acc: 0.8224\n",
      "Epoch 89/100\n",
      "760/760 [==============================] - 0s 68us/sample - loss: 0.4225 - acc: 0.8158\n",
      "Epoch 90/100\n",
      "760/760 [==============================] - 0s 113us/sample - loss: 0.4303 - acc: 0.8197\n",
      "Epoch 91/100\n",
      "760/760 [==============================] - 0s 66us/sample - loss: 0.4247 - acc: 0.8158\n",
      "Epoch 92/100\n",
      "760/760 [==============================] - 0s 97us/sample - loss: 0.4235 - acc: 0.8211\n",
      "Epoch 93/100\n",
      "760/760 [==============================] - 0s 71us/sample - loss: 0.4241 - acc: 0.8197\n",
      "Epoch 94/100\n",
      "760/760 [==============================] - 0s 64us/sample - loss: 0.4196 - acc: 0.8197\n",
      "Epoch 95/100\n",
      "760/760 [==============================] - 0s 66us/sample - loss: 0.4203 - acc: 0.8237\n",
      "Epoch 96/100\n",
      "760/760 [==============================] - 0s 68us/sample - loss: 0.4238 - acc: 0.8184\n",
      "Epoch 97/100\n",
      "760/760 [==============================] - 0s 76us/sample - loss: 0.4243 - acc: 0.8303\n",
      "Epoch 98/100\n",
      "760/760 [==============================] - 0s 71us/sample - loss: 0.4265 - acc: 0.8250\n",
      "Epoch 99/100\n",
      "760/760 [==============================] - 0s 80us/sample - loss: 0.4272 - acc: 0.8197\n",
      "Epoch 100/100\n",
      "760/760 [==============================] - 0s 64us/sample - loss: 0.4209 - acc: 0.8184\n"
     ]
    },
    {
     "data": {
      "text/plain": [
       "<tensorflow.python.keras.callbacks.History at 0x2642c1f1e10>"
      ]
     },
     "execution_count": 121,
     "metadata": {},
     "output_type": "execute_result"
    }
   ],
   "source": [
    "model.fit(x_neural, y_neural, batch_size=25, epochs=100)"
   ]
  },
  {
   "cell_type": "code",
   "execution_count": 122,
   "metadata": {},
   "outputs": [
    {
     "name": "stdout",
     "output_type": "stream",
     "text": [
      "268/268 [==============================] - 0s 284us/sample - loss: 0.4178 - acc: 0.8172\n"
     ]
    },
    {
     "data": {
      "text/plain": [
       "[0.41784778993521166, 0.8171642]"
      ]
     },
     "execution_count": 122,
     "metadata": {},
     "output_type": "execute_result"
    }
   ],
   "source": [
    "model.evaluate(np.array(x_val), np.array(y_val))"
   ]
  },
  {
   "cell_type": "markdown",
   "metadata": {},
   "source": [
    "Getting the test set values"
   ]
  },
  {
   "cell_type": "code",
   "execution_count": 84,
   "metadata": {},
   "outputs": [],
   "source": [
    "test_predictions = randomforest_new.predict(x_test)"
   ]
  },
  {
   "cell_type": "code",
   "execution_count": 86,
   "metadata": {},
   "outputs": [],
   "source": [
    "#creating sample submission\n",
    "submission_df = pd.DataFrame({\"PassengerID\": test[\"PassengerId\"],\n",
    "                             \"Survived\": test_predictions})\n",
    "submission_df.to_csv(\"submission2.csv\", index=False)"
   ]
  },
  {
   "cell_type": "code",
   "execution_count": 125,
   "metadata": {},
   "outputs": [],
   "source": [
    "#output from XGBoost\n",
    "test_xgb = xgb_new.predict(x_test)\n",
    "submission_df = pd.DataFrame({\"PassengerID\": test[\"PassengerId\"],\n",
    "                             \"Survived\": test_xgb})\n",
    "submission_df.to_csv(\"submission4.csv\", index=False)"
   ]
  }
 ],
 "metadata": {
  "kernelspec": {
   "display_name": "Python 3",
   "language": "python",
   "name": "python3"
  },
  "language_info": {
   "codemirror_mode": {
    "name": "ipython",
    "version": 3
   },
   "file_extension": ".py",
   "mimetype": "text/x-python",
   "name": "python",
   "nbconvert_exporter": "python",
   "pygments_lexer": "ipython3",
   "version": "3.7.3"
  }
 },
 "nbformat": 4,
 "nbformat_minor": 4
}
